{
 "cells": [
  {
   "cell_type": "code",
   "execution_count": 4,
   "metadata": {},
   "outputs": [],
   "source": [
    "import numpy as np\n",
    "def test_forward_spin_transform():\n",
    "        from jimgw.single_event.utils import m1_m2_to_Mc_q\n",
    "        from jimgw.single_event.utils import spin_angles_to_cartesian_spin \n",
    "        \n",
    "        # from bilby.gw.conversion import bilby_to_lalsimulation_spins as bilby_spin_transform\n",
    "        # from bilby.gw.conversion import symmetric_mass_ratio_to_mass_ratio, chirp_mass_and_mass_ratio_to_component_masses\n",
    "    \n",
    "        # inputs = []\n",
    "        # for _ in range(100):\n",
    "        #     thetaJN = np.array(np.random.uniform(0, np.pi))\n",
    "        #     phiJL = np.array(np.random.uniform(0, np.pi))\n",
    "        #     theta1 = np.array(np.random.uniform(0, np.pi))\n",
    "        #     theta2 = np.array(np.random.uniform(0, np.pi))\n",
    "        #     phi12 = np.array(np.random.uniform(0, np.pi))\n",
    "        #     chi1 = np.array(np.random.uniform(0, 1))\n",
    "        #     chi2 = np.array(np.random.uniform(0, 1))\n",
    "        #     M_c = np.array(np.random.uniform(1, 100))   \n",
    "        #     eta = np.array(np.random.uniform(0.1, 0.25))\n",
    "        #     fRef = np.array(np.random.uniform(10, 1000))\n",
    "        #     phiRef = np.array(np.random.uniform(0, 2*np.pi))\n",
    "            \n",
    "        #     q = symmetric_mass_ratio_to_mass_ratio(eta)\n",
    "        #     m1, m2 = chirp_mass_and_mass_ratio_to_component_masses(M_c, q)\n",
    "            \n",
    "            \n",
    "        #     inputs.append((thetaJN, phiJL, theta1, theta2, phi12, chi1, chi2, m1, m2, fRef, phiRef))\n",
    "        # inputs = np.array(inputs)\n",
    "        # np.savez('spin_angles_input.npz', thetaJN= inputs[:, 0], phiJL= inputs[:, 1], theta1= inputs[:, 2], theta2= inputs[:, 3], phi12= inputs[:, 4], chi1= inputs[:, 5], chi2= inputs[:, 6], m1= inputs[:, 7], m2= inputs[:, 8], fRef= inputs[:, 9], phiRef= inputs[:, 10])\n",
    "    \n",
    "        # bilby_outputs = []\n",
    "        # for input in inputs:\n",
    "        #     iota, S1x, S1y, S1z, S2x, S2y, S2z = bilby_spin_transform(*input)\n",
    "        #     bilby_outputs.append((iota, S1x, S1y, S1z, S2x, S2y, S2z))\n",
    "        # bilby_outputs = np.array(bilby_outputs)\n",
    "        # np.savez('cartesian_spins_output_for_bilby.npz', iota= bilby_outputs[:, 0], S1x= bilby_outputs[:, 1], S1y= bilby_outputs[:, 2], S1z= bilby_outputs[:, 3], S2x= bilby_outputs[:, 4], S2y= bilby_outputs[:, 5], S2z= bilby_outputs[:, 6])\n",
    "\n",
    "        # read inputs from binary\n",
    "        inputs = np.load(\"/home/user/smwong/ceph/bilby_binary_files/spin_angles_input.npz\")\n",
    "        inputs = [inputs[key] for key in inputs.keys()]\n",
    "        M_c, q = m1_m2_to_Mc_q(inputs[7], inputs[8])\n",
    "        \n",
    "        # compute jimgw spins\n",
    "        jimgw_spins = spin_angles_to_cartesian_spin(inputs[0], inputs[1], inputs[2], inputs[3], inputs[4], inputs[5], inputs[6], M_c, q, inputs[9], inputs[10])\n",
    "        \n",
    "        #read bilby spins from binary\n",
    "        bilby_spins = np.load(\"/home/user/smwong/ceph/bilby_binary_files/cartesian_spins_output_for_bilby.npz\")\n",
    "        \n",
    "        # compare bilby and jimgw spins\n",
    "        assert np.allclose(jimgw_spins, bilby_spins, atol=1e-4)\n",
    "  "
   ]
  },
  {
   "cell_type": "code",
   "execution_count": 5,
   "metadata": {},
   "outputs": [
    {
     "ename": "ImportError",
     "evalue": "cannot import name 'MTSUN' from 'jimgw.constants' (/home/user/smwong/.conda/envs/jim/lib/python3.11/site-packages/jimgw/constants.py)",
     "output_type": "error",
     "traceback": [
      "\u001b[0;31m---------------------------------------------------------------------------\u001b[0m",
      "\u001b[0;31mImportError\u001b[0m                               Traceback (most recent call last)",
      "Cell \u001b[0;32mIn[5], line 1\u001b[0m\n\u001b[0;32m----> 1\u001b[0m \u001b[43mtest_forward_spin_transform\u001b[49m\u001b[43m(\u001b[49m\u001b[43m)\u001b[49m\n",
      "Cell \u001b[0;32mIn[4], line 3\u001b[0m, in \u001b[0;36mtest_forward_spin_transform\u001b[0;34m()\u001b[0m\n\u001b[1;32m      2\u001b[0m \u001b[38;5;28;01mdef\u001b[39;00m \u001b[38;5;21mtest_forward_spin_transform\u001b[39m():\n\u001b[0;32m----> 3\u001b[0m         \u001b[38;5;28;01mfrom\u001b[39;00m \u001b[38;5;21;01mjimgw\u001b[39;00m\u001b[38;5;21;01m.\u001b[39;00m\u001b[38;5;21;01msingle_event\u001b[39;00m\u001b[38;5;21;01m.\u001b[39;00m\u001b[38;5;21;01mutils\u001b[39;00m \u001b[38;5;28;01mimport\u001b[39;00m m1_m2_to_Mc_q\n\u001b[1;32m      4\u001b[0m         \u001b[38;5;28;01mfrom\u001b[39;00m \u001b[38;5;21;01mjimgw\u001b[39;00m\u001b[38;5;21;01m.\u001b[39;00m\u001b[38;5;21;01msingle_event\u001b[39;00m\u001b[38;5;21;01m.\u001b[39;00m\u001b[38;5;21;01mutils\u001b[39;00m \u001b[38;5;28;01mimport\u001b[39;00m spin_angles_to_cartesian_spin \n\u001b[1;32m      6\u001b[0m         \u001b[38;5;66;03m# from bilby.gw.conversion import bilby_to_lalsimulation_spins as bilby_spin_transform\u001b[39;00m\n\u001b[1;32m      7\u001b[0m         \u001b[38;5;66;03m# from bilby.gw.conversion import symmetric_mass_ratio_to_mass_ratio, chirp_mass_and_mass_ratio_to_component_masses\u001b[39;00m\n\u001b[1;32m      8\u001b[0m     \n\u001b[0;32m   (...)\u001b[0m\n\u001b[1;32m     37\u001b[0m \n\u001b[1;32m     38\u001b[0m         \u001b[38;5;66;03m# read inputs from binary\u001b[39;00m\n",
      "File \u001b[0;32m~/.conda/envs/jim/lib/python3.11/site-packages/jimgw/single_event/utils.py:5\u001b[0m\n\u001b[1;32m      2\u001b[0m \u001b[38;5;28;01mfrom\u001b[39;00m \u001b[38;5;21;01mjax\u001b[39;00m\u001b[38;5;21;01m.\u001b[39;00m\u001b[38;5;21;01mscipy\u001b[39;00m\u001b[38;5;21;01m.\u001b[39;00m\u001b[38;5;21;01mintegrate\u001b[39;00m \u001b[38;5;28;01mimport\u001b[39;00m trapezoid\n\u001b[1;32m      3\u001b[0m \u001b[38;5;28;01mfrom\u001b[39;00m \u001b[38;5;21;01mjaxtyping\u001b[39;00m \u001b[38;5;28;01mimport\u001b[39;00m Array, Float\n\u001b[0;32m----> 5\u001b[0m \u001b[38;5;28;01mfrom\u001b[39;00m \u001b[38;5;21;01mjimgw\u001b[39;00m\u001b[38;5;21;01m.\u001b[39;00m\u001b[38;5;21;01mconstants\u001b[39;00m \u001b[38;5;28;01mimport\u001b[39;00m MTSUN\n\u001b[1;32m      8\u001b[0m \u001b[38;5;28;01mdef\u001b[39;00m \u001b[38;5;21minner_product\u001b[39m(\n\u001b[1;32m      9\u001b[0m     h1: Float[Array, \u001b[38;5;124m\"\u001b[39m\u001b[38;5;124m n_sample\u001b[39m\u001b[38;5;124m\"\u001b[39m],\n\u001b[1;32m     10\u001b[0m     h2: Float[Array, \u001b[38;5;124m\"\u001b[39m\u001b[38;5;124m n_sample\u001b[39m\u001b[38;5;124m\"\u001b[39m],\n\u001b[1;32m     11\u001b[0m     frequency: Float[Array, \u001b[38;5;124m\"\u001b[39m\u001b[38;5;124m n_sample\u001b[39m\u001b[38;5;124m\"\u001b[39m],\n\u001b[1;32m     12\u001b[0m     psd: Float[Array, \u001b[38;5;124m\"\u001b[39m\u001b[38;5;124m n_sample\u001b[39m\u001b[38;5;124m\"\u001b[39m],\n\u001b[1;32m     13\u001b[0m ) \u001b[38;5;241m-\u001b[39m\u001b[38;5;241m>\u001b[39m Float:\n\u001b[1;32m     14\u001b[0m \u001b[38;5;250m    \u001b[39m\u001b[38;5;124;03m\"\"\"\u001b[39;00m\n\u001b[1;32m     15\u001b[0m \u001b[38;5;124;03m        Evaluating the inner product of two waveforms h1 and h2 with the psd.\u001b[39;00m\n\u001b[1;32m     16\u001b[0m \n\u001b[0;32m   (...)\u001b[0m\n\u001b[1;32m     33\u001b[0m \u001b[38;5;124;03m                Inner product of h1 and h2 with the psd.\u001b[39;00m\n\u001b[1;32m     34\u001b[0m \u001b[38;5;124;03m    \"\"\"\u001b[39;00m\n",
      "\u001b[0;31mImportError\u001b[0m: cannot import name 'MTSUN' from 'jimgw.constants' (/home/user/smwong/.conda/envs/jim/lib/python3.11/site-packages/jimgw/constants.py)"
     ]
    }
   ],
   "source": [
    "test_forward_spin_transform()"
   ]
  }
 ],
 "metadata": {
  "kernelspec": {
   "display_name": "Python 3",
   "language": "python",
   "name": "python3"
  },
  "language_info": {
   "codemirror_mode": {
    "name": "ipython",
    "version": 3
   },
   "file_extension": ".py",
   "mimetype": "text/x-python",
   "name": "python",
   "nbconvert_exporter": "python",
   "pygments_lexer": "ipython3",
   "version": "3.11.0"
  }
 },
 "nbformat": 4,
 "nbformat_minor": 2
}
